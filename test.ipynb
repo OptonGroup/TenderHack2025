{
 "cells": [
  {
   "cell_type": "code",
   "execution_count": 1,
   "metadata": {},
   "outputs": [
    {
     "name": "stderr",
     "output_type": "stream",
     "text": [
      "c:\\Users\\opton\\AppData\\Local\\Programs\\Python\\Python310\\lib\\site-packages\\tqdm\\auto.py:21: TqdmWarning: IProgress not found. Please update jupyter and ipywidgets. See https://ipywidgets.readthedocs.io/en/stable/user_install.html\n",
      "  from .autonotebook import tqdm as notebook_tqdm\n",
      "Loading checkpoint shards: 100%|██████████| 2/2 [00:04<00:00,  2.33s/it]\n",
      "Device set to use cpu\n"
     ]
    },
    {
     "name": "stdout",
     "output_type": "stream",
     "text": [
      "[{'role': 'user', 'content': 'def print_hello():'}, {'role': 'assistant', 'content': 'def print_hello():\\n    print(\"Hello, World!\")'}]\n"
     ]
    }
   ],
   "source": [
    "# Используем pipeline как высокоуровневый помощник\n",
    "from transformers import pipeline\n",
    "\n",
    "# Создаем сообщения в формате диалога\n",
    "messages = [\n",
    "    {\"role\": \"user\", \"content\": \"def print_hello():\"},\n",
    "]\n",
    "\n",
    "# Используем модель Phi-4-mini-instruct\n",
    "pipe = pipeline(\"text-generation\", model=\"microsoft/Phi-4-mini-instruct\", trust_remote_code=True)\n",
    "\n",
    "try:\n",
    "    # Генерируем ответ на основе сообщений\n",
    "    response = pipe(messages)\n",
    "    print(response[0]['generated_text'])\n",
    "except Exception as e:\n",
    "    print(f\"Произошла ошибка при генерации текста: {e}\")\n",
    "    print(\"Попробуйте использовать другую модель, например 'sberbank-ai/rugpt3small_based_on_gpt2'\")"
   ]
  },
  {
   "cell_type": "code",
   "execution_count": null,
   "metadata": {},
   "outputs": [],
   "source": []
  }
 ],
 "metadata": {
  "kernelspec": {
   "display_name": "Python 3",
   "language": "python",
   "name": "python3"
  },
  "language_info": {
   "codemirror_mode": {
    "name": "ipython",
    "version": 3
   },
   "file_extension": ".py",
   "mimetype": "text/x-python",
   "name": "python",
   "nbconvert_exporter": "python",
   "pygments_lexer": "ipython3",
   "version": "3.10.11"
  }
 },
 "nbformat": 4,
 "nbformat_minor": 2
}
