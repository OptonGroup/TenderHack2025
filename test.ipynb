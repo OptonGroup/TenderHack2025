{
 "cells": [
  {
   "cell_type": "code",
   "execution_count": 5,
   "metadata": {},
   "outputs": [
    {
     "name": "stderr",
     "output_type": "stream",
     "text": [
      "Loading checkpoint shards: 100%|██████████| 2/2 [00:16<00:00,  8.28s/it]\n",
      "Device set to use cpu\n"
     ]
    },
    {
     "name": "stdout",
     "output_type": "stream",
     "text": [
      "[{'role': 'user', 'content': 'Кто ты?'}, {'role': 'assistant', 'content': 'Я Phi, разработанный Microsoft, здесь, чтобы помочь вам с различными задачами. Как я'}]\n"
     ]
    }
   ],
   "source": [
    "# Используем pipeline как высокоуровневый помощник\n",
    "from transformers import pipeline\n",
    "\n",
    "# Создаем сообщения в формате диалога\n",
    "messages = [\n",
    "    {\"role\": \"user\", \"content\": \"Кто ты?\"},\n",
    "]\n",
    "\n",
    "# Используем модель Phi-4-mini-instruct\n",
    "pipe = pipeline(\"text-generation\", model=\"microsoft/Phi-4-mini-instruct\", trust_remote_code=True)\n",
    "\n",
    "try:\n",
    "    # Генерируем ответ на основе сообщений\n",
    "    response = pipe(messages)\n",
    "    print(response[0]['generated_text'])\n",
    "except Exception as e:\n",
    "    print(f\"Произошла ошибка при генерации текста: {e}\")\n",
    "    print(\"Попробуйте использовать другую модель, например 'sberbank-ai/rugpt3small_based_on_gpt2'\")"
   ]
  }
 ],
 "metadata": {
  "kernelspec": {
   "display_name": "Python 3",
   "language": "python",
   "name": "python3"
  },
  "language_info": {
   "codemirror_mode": {
    "name": "ipython",
    "version": 3
   },
   "file_extension": ".py",
   "mimetype": "text/x-python",
   "name": "python",
   "nbconvert_exporter": "python",
   "pygments_lexer": "ipython3",
   "version": "3.10.11"
  }
 },
 "nbformat": 4,
 "nbformat_minor": 2
}
